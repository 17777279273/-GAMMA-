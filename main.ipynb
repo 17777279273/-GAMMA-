{
 "cells": [
  {
   "cell_type": "markdown",
   "metadata": {},
   "source": [
    "# 常规赛：视杯视盘分割（GAMMA挑战赛任务三） 11月-第六名方案\n",
    "\n",
    "\n",
    "**赛题简述**\n",
    "\n",
    "GAMMA挑战赛释放了两种模态的眼底影像数据对，并且有青光眼分级标签、视杯视盘分割标签、黄斑中央凹坐标标签。\n",
    "    \n",
    "    青光眼是一种慢性神经退行性疾病，是世界上不可逆转但可预防的失明的主要原因之一。青光眼有许多变种，其特征是视神经盘受损，通常由高眼压引起。眼压升高是由于眼内房水异常积累的结果，是由眼排水系统的病理性缺陷引起的。当前段被这种液体饱和时，眼压逐渐升高，将玻璃体压向视网膜。如果这种情况继续不受控制，就会对神经纤维层、脉管系统和视神经盘造成损害，导致进行性和不可逆转的视力丧失，最终导致失明。 \n",
    "\n",
    "   ![](https://ai-studio-static-online.cdn.bcebos.com/3ae07956b385462ca471a687e362a5d36f9233fce92a4ddcb41d1d65ca830b9c)\n",
    "   \n",
    "    \n",
    "\n",
    "    \n",
    "       视神经盘，简称视盘，是视网膜上视觉纤维汇集穿出眼球的部位，是视神经的始端。视盘有一个生理凹陷，即视杯。视盘和视杯是眼底重要的生理结构，当视盘出现出血、盘沿变薄、血管屈膝、杯盘比扩大等体征时，极可能发生青光眼病变。除了视盘，眼底另一重要结构是黄斑。黄斑在视盘的颞侧0.35cm处并稍下方，处于人眼的光学中心区。黄斑中央的凹陷称为中央凹，是视力最敏锐的地方。\n",
    " \n",
    "   ![](https://ai-studio-static-online.cdn.bcebos.com/f31ea9989a58420e984c3a90bc312cf3636b49095f8f4dbeab6a23925220ee74)\n",
    "    \n",
    "    \n",
    "    \n",
    "    本项挑战赛的目的是促使医学图像分析社区共同开发基于多模态影像的青光眼自动分级方法，以及基于眼底图像的视盘/视杯分割、黄斑中央凹定位方法。同时，本次挑战赛给出了统一的测评框架和数据集，可对青光眼检测、黄斑中央凹定位和视盘/杯分割已有算法进行评估和比较。 \n",
    "    \n",
    "    \n",
    "**训练数据集**\n",
    "文件名称：task3_disc_cup_segmentation中的training文件夹\n",
    "\n",
    "training里有两个文件夹，一个是fundus color images，一个是Disc_Cup_Masks 。\n",
    "\n",
    "训练集； 训练数据集包括100个样本0001-0100，每个样本对应一个2D眼底彩照数据，存储为0001.jpg。\n",
    "\n",
    "    视杯视盘分割金标准以bmp图像格式存储，每个样本的眼底图像对应一个视杯视盘分割结果图像。分割结果图像命名与输入的待分割眼底图像命名前缀一致。分割图像中，像素值为0代表视杯区域、像素值为128代表视盘中非视杯区域、像素值为255代表其他区域。所有样本的分割图像存储在 Disc_Cup_Masks 文件夹中。\n",
    "\n",
    "\n",
    "\n",
    "\n",
    "**测试数据集**\n",
    "\n",
    "文件夹名称：testing/fundus color images\n",
    "\n",
    "压缩包里包含200张眼底彩照，命名形如0200.jpg。\n",
    "\n",
    "\n",
    "**提交方式*** \n",
    "\n",
    "    视杯视盘分割结果存储在Disc_Cup_Segmentations文件夹中，每个样本的分割结果以bmp图像格式存储。每个样本的眼底图像对应一个视杯视盘分割结果图像。分割结果图像命名与输入的待分割眼底图像命名前缀一致。分割图像中，像素值为0代表视杯区域、像素值为128代表视盘中非视杯区域、像素值为255代表其他区域。\n",
    "\n",
    "    zip结果提交：参赛者将Disc_Cup_Segmentations文件夹以zip格式打包，将打包后的压缩包提交到AI Studio平台，平台将进行在线评分，实时排名。\n",
    "    毎个参赛队伍每天最多可以提交5次在线评测，提交额度用尽后，当日无法再提交；\n",
    "    参赛者历史提交结果将在本页下方展示，但排行榜页内仅显示该参赛者历史最佳成绩（如果新提交结果好于之前提交结果，该参赛者在排行榜中成绩将自动进行更新覆盖。反之，排行榜中成绩保持不变）。\n",
    "\n"
   ]
  },
  {
   "cell_type": "markdown",
   "metadata": {},
   "source": [
    "# 方案内容\n",
    "\n",
    "* 解压数据\n",
    "\n",
    "    -- # 解压数据集\n",
    "\n",
    "\n",
    "\n",
    "* 数据标签预处理与数据划分\n",
    "\n",
    "    -- # 转换标签\n",
    "    \n",
    "    -- # 划分数据\n",
    "\n",
    "* 利用PaddleSeg高层API加速赛题开发与测试\n",
    "\n",
    "    -- # 实现训练流程\n",
    "\n",
    "    -- # 实现预测流程\n",
    "\n",
    "* 完成结果提交 -- 基线方案为8.08+的得分(DISC_DICE:0.93509\t, CUP_DICE:0.85377\t, vCDR:0.04924\t)，可从训练迭代次数、损失函数、模型入手\n",
    "\n",
    "\n",
    "    "
   ]
  },
  {
   "cell_type": "markdown",
   "metadata": {},
   "source": [
    "# 测试记录\n",
    "\n",
    "如果你喜欢我的测试记录，并认为这个项目和记录对你有帮助，欢迎在之后的版本中也更新并公开你的测试记录~\n",
    "\n",
    "|Index| 版本 | score | disc | cup | vCDR | 备注 |\n",
    "| --------| -------- | -------- | -------- | -------- | -------- | -------- | \n",
    "|0| 版本0     |8.08043\t|0.9429\t|0.84968\t|0.05037\t    | 翻转 形变 模糊 缩放 Adam 2048*2048|\n",
    "|1| 版本1     |8.08743\t|0.93509\t|0.85377\t|0.04924\t    | 翻转 形变 模糊 缩放 AdamW 2048*2048|"
   ]
  },
  {
   "cell_type": "markdown",
   "metadata": {},
   "source": [
    "# 一、解压数据\n"
   ]
  },
  {
   "cell_type": "code",
   "execution_count": null,
   "metadata": {
    "collapsed": false,
    "jupyter": {
     "outputs_hidden": false
    }
   },
   "outputs": [],
   "source": [
    "! wget https://dataset-bj.cdn.bcebos.com/%E5%8C%BB%E7%96%97%E6%AF%94%E8%B5%9B/task3_disc_cup_segmentation.zip"
   ]
  },
  {
   "cell_type": "code",
   "execution_count": null,
   "metadata": {
    "collapsed": false,
    "jupyter": {
     "outputs_hidden": false
    }
   },
   "outputs": [],
   "source": [
    "! unzip -oq /home/aistudio/task3_disc_cup_segmentation.zip"
   ]
  },
  {
   "cell_type": "markdown",
   "metadata": {},
   "source": [
    "## 1.1导入依赖"
   ]
  },
  {
   "cell_type": "code",
   "execution_count": null,
   "metadata": {},
   "outputs": [],
   "source": [
    "!pip install paddleseg"
   ]
  },
  {
   "cell_type": "code",
   "execution_count": null,
   "metadata": {},
   "outputs": [],
   "source": [
    "#导入常用的库\n",
    "import os\n",
    "import random\n",
    "import numpy as np\n",
    "from random import shuffle\n",
    "import cv2\n",
    "import paddle\n",
    "from PIL import Image\n",
    "import shutil\n",
    "import re\n",
    "from paddle.vision.transforms import functional as F\n",
    "import os.path\n",
    "import paddleseg.transforms as T\n",
    "from paddleseg.datasets import Dataset\n",
    "from paddleseg.core import train\n",
    "from paddleseg.core import evaluate\n",
    "from paddleseg.core import predict\n",
    "from PIL import Image\n",
    "import paddleseg"
   ]
  },
  {
   "cell_type": "markdown",
   "metadata": {},
   "source": [
    "# 二、数据标签预处理与数据划分\n",
    "\n",
    "PaddleSeg需要使用txt文档指定训练信息，同样要求训练标签从0,1,2开始编号。"
   ]
  },
  {
   "cell_type": "markdown",
   "metadata": {},
   "source": [
    "## 2.1数据标签预处理"
   ]
  },
  {
   "cell_type": "code",
   "execution_count": null,
   "metadata": {
    "collapsed": false,
    "jupyter": {
     "outputs_hidden": false
    }
   },
   "outputs": [],
   "source": [
    "# 转化训练标签到指定格式\n",
    "! mkdir training/mask\n",
    "for item in os.listdir('training/Disc_Cup_Mask'):\n",
    "    im=Image.open('training/Disc_Cup_Mask/'+item)\n",
    "    im=(np.array(im).astype(float)/255*2).astype(int).astype('uint8')\n",
    "    im = Image.fromarray(im)\n",
    "    im.save('training/mask/'+item)"
   ]
  },
  {
   "cell_type": "code",
   "execution_count": null,
   "metadata": {
    "collapsed": false,
    "jupyter": {
     "outputs_hidden": false
    }
   },
   "outputs": [],
   "source": [
    "# 观察图片尺寸\n",
    "names = [item.split('.')[0] for item in os.listdir('training/fundus_color_images')]\n",
    "img_dir='/home/aistudio/training/fundus_color_images/'\n",
    "mask_dir='/home/aistudio/training/mask/'\n",
    "for name in names:\n",
    "    im=Image.open(img_dir+name+'.jpg')\n",
    "    print(np.array(im).shape)"
   ]
  },
  {
   "cell_type": "code",
   "execution_count": null,
   "metadata": {
    "collapsed": false,
    "jupyter": {
     "outputs_hidden": false
    }
   },
   "outputs": [],
   "source": [
    "# 生成对应的图片-标签数据\n",
    "try: \n",
    "    os.rename('/home/aistudio/training/fundus color images/','/home/aistudio/training/fundus_color_images/')\n",
    "except:\n",
    "    print('have renamed')\n",
    "names = [item.split('.')[0] for item in os.listdir('training/fundus_color_images')]\n",
    "ori_train_list=[]\n",
    "img_dir='/home/aistudio/training/fundus_color_images/'\n",
    "mask_dir='/home/aistudio/training/mask/'\n",
    "for name in names:\n",
    "    if os.path.exists(img_dir+name+'.jpg') and os.path.exists(mask_dir+name+'.png'):\n",
    "        ori_train_list.append(img_dir+name+'.jpg '+mask_dir+name+'.png'+'\\n')"
   ]
  },
  {
   "cell_type": "markdown",
   "metadata": {},
   "source": [
    "## 2.2 数据集划分"
   ]
  },
  {
   "cell_type": "code",
   "execution_count": null,
   "metadata": {
    "collapsed": false,
    "jupyter": {
     "outputs_hidden": false
    }
   },
   "outputs": [],
   "source": [
    "# 生成txt文档\n",
    "cut_percent=0.1\n",
    "cut_point=int(cut_percent*len(ori_train_list))\n",
    "random.shuffle(ori_train_list)\n",
    "\n",
    "with open('train.txt','w') as f:\n",
    "    for item in ori_train_list[cut_point:]:\n",
    "        f.write(item)\n",
    "\n",
    "with open('eval.txt','w') as f:\n",
    "    for item in ori_train_list[:cut_point]:\n",
    "        f.write(item)"
   ]
  },
  {
   "cell_type": "markdown",
   "metadata": {},
   "source": [
    "# 三、利用PaddleSeg高层API加速赛题开发与测试\n",
    "\n",
    "这里直接使用了2048*2048的Resize大小"
   ]
  },
  {
   "cell_type": "markdown",
   "metadata": {},
   "source": [
    "## 3.1 数据增强"
   ]
  },
  {
   "cell_type": "code",
   "execution_count": 26,
   "metadata": {
    "collapsed": false,
    "execution": {
     "iopub.execute_input": "2021-12-19T03:37:20.914908Z",
     "iopub.status.busy": "2021-12-19T03:37:20.914299Z",
     "iopub.status.idle": "2021-12-19T03:37:20.919650Z",
     "shell.execute_reply": "2021-12-19T03:37:20.919129Z",
     "shell.execute_reply.started": "2021-12-19T03:37:20.914874Z"
    },
    "jupyter": {
     "outputs_hidden": false
    }
   },
   "outputs": [],
   "source": [
    "# 定义transforms\n",
    "import paddleseg.transforms as T\n",
    "train_transforms = [\n",
    "    T.RandomHorizontalFlip(0.3),# 水平翻转\n",
    "    T.RandomVerticalFlip(0.3),# 垂直翻转\n",
    "    T.RandomDistort(0.6),# 随机扭曲\n",
    "    T.RandomBlur(0.3),# 高斯模糊\n",
    "    T.RandomScaleAspect(min_scale=0.8,aspect_ratio=0.5),# 随机缩放\n",
    "    T.Resize(target_size=(2048,2048)),\n",
    "    T.Normalize()  # 图像标准化\n",
    "]\n",
    "\n",
    "val_transforms = [\n",
    "    T.Resize(target_size=(2048,2048)),\n",
    "    T.Normalize()\n",
    "]"
   ]
  },
  {
   "cell_type": "markdown",
   "metadata": {},
   "source": [
    "## 3.2 构建数据集 "
   ]
  },
  {
   "cell_type": "code",
   "execution_count": null,
   "metadata": {
    "collapsed": false,
    "jupyter": {
     "outputs_hidden": false
    }
   },
   "outputs": [],
   "source": [
    "# 构建训练集\n",
    "train_dataset = Dataset(\n",
    "    dataset_root='/home/aistudio',\n",
    "    train_path='/home/aistudio/train.txt',\n",
    "    transforms=train_transforms,\n",
    "    num_classes=3,\n",
    "    mode='train'\n",
    ")\n",
    "#验证集\n",
    "val_dataset = Dataset(\n",
    "    dataset_root='/home/aistudio',\n",
    "    val_path='/home/aistudio/eval.txt',\n",
    "    transforms=val_transforms,\n",
    "    num_classes=3,\n",
    "    mode='val'\n",
    ")"
   ]
  },
  {
   "cell_type": "markdown",
   "metadata": {},
   "source": [
    "# 四、利用PaddleSeg高层API加速赛题开发与测试"
   ]
  },
  {
   "cell_type": "markdown",
   "metadata": {},
   "source": [
    "## 4.1 实现训练流程"
   ]
  },
  {
   "cell_type": "code",
   "execution_count": null,
   "metadata": {
    "collapsed": false,
    "jupyter": {
     "outputs_hidden": false
    }
   },
   "outputs": [],
   "source": [
    "import paddle\n",
    "from paddleseg.models import BiSeNetV2\n",
    "from paddleseg.models.losses import  MixedLoss,CrossEntropyLoss,DiceLoss,BCELoss,LovaszSoftmaxLoss\n",
    "\n",
    "learning_rate =0.0125 #初始学习率\n",
    "\n",
    "BATCH_SIZE = 4\n",
    "EPOCHS = 110 \n",
    "decay_steps = int(len(train_dataset)/BATCH_SIZE * EPOCHS)\n",
    "iters = decay_steps\n",
    "model = BiSeNetV2(num_classes=3)\n",
    "\n",
    "lr =paddle.optimizer.lr.CosineAnnealingDecay(learning_rate, T_max=(iters // 3), last_epoch=0.5) #使用余弦退火调整学习率\n",
    "u_optimizer = paddle.optimizer.AdamW(lr, parameters=model.parameters())\n",
    "\n",
    "#构建损失函数\n",
    "mixtureLosses = [CrossEntropyLoss(),DiceLoss() ] \n",
    "mixtureCoef = [0.7,0.3]\n",
    "losses = {}\n",
    "losses['types'] = [MixedLoss(mixtureCoef,mixtureLosses)]*5\n",
    "losses['coef'] = [1]*5"
   ]
  },
  {
   "cell_type": "code",
   "execution_count": null,
   "metadata": {
    "collapsed": false,
    "jupyter": {
     "outputs_hidden": false
    }
   },
   "outputs": [],
   "source": [
    "#进行训练\n",
    "train(\n",
    "    model = model,\n",
    "    train_dataset=train_dataset,\n",
    "    val_dataset=val_dataset,\n",
    "    optimizer=u_optimizer,\n",
    "    save_dir='output/BiSeNetV2_1',\n",
    "    iters=iters,  \n",
    "    batch_size=BATCH_SIZE, \n",
    "    save_interval=80,\n",
    "    log_iters=20,\n",
    "    num_workers=0,\n",
    "    losses=losses,\n",
    "    use_vdl=False\n",
    "    )"
   ]
  },
  {
   "cell_type": "code",
   "execution_count": null,
   "metadata": {
    "collapsed": false,
    "jupyter": {
     "outputs_hidden": false
    }
   },
   "outputs": [],
   "source": [
    "from paddleseg.core import evaluate\n",
    "from paddleseg.models import BiSeNetV2\n",
    "\n",
    "#设置模型\n",
    "model = BiSeNetV2(num_classes=3)\n",
    "#模型路径\n",
    "model_path = 'output/BiSeNetV2/best_model/model.pdparams'\n",
    "\n",
    "para_state_dict = paddle.load(model_path)\n",
    "model.set_dict(para_state_dict)\n",
    "evaluate(model,val_dataset)"
   ]
  },
  {
   "cell_type": "markdown",
   "metadata": {},
   "source": [
    "## 4.2 实现预测流程"
   ]
  },
  {
   "cell_type": "code",
   "execution_count": null,
   "metadata": {
    "collapsed": false,
    "jupyter": {
     "outputs_hidden": false
    }
   },
   "outputs": [],
   "source": [
    "test_list=[\"testing/fundus color images/\"+item for item in os.listdir(\"testing/fundus color images\")]\n",
    "\n",
    "transforms = T.Compose([\n",
    "    T.Resize(target_size=(2048, 2048)),\n",
    "    T.Normalize()\n",
    "])\n",
    "\n",
    "model = paddleseg.models.BiSeNetV2(num_classes=3)\n",
    "\n",
    "predict(\n",
    "    model,\n",
    "    #换自己保存的模型文件\n",
    "    model_path = 'output/BiSeNetV2/best_model/model.pdparams',\n",
    "    transforms=transforms,\n",
    "    image_list=test_list,\n",
    "    save_dir='Predict_result',)"
   ]
  },
  {
   "cell_type": "markdown",
   "metadata": {},
   "source": [
    "# 五、完成结果提交\n",
    "\n",
    "需要将预测结果转化为指定格式并打包提交"
   ]
  },
  {
   "cell_type": "code",
   "execution_count": null,
   "metadata": {
    "collapsed": false,
    "jupyter": {
     "outputs_hidden": false
    }
   },
   "outputs": [],
   "source": [
    "! mkdir Disc_Cup_Segmentations\n",
    "for img in os.listdir('Predict_result/pseudo_color_prediction'):\n",
    "    img_dir='Predict_result/pseudo_color_prediction/'+img\n",
    "    im=Image.open(img_dir)\n",
    "    im=Image.fromarray((np.array(im).astype(float)*255/2).round().astype('uint8'))\n",
    "    img=img.split('.')[0]\n",
    "    im.save('Disc_Cup_Segmentations/'+img+'.bmp')"
   ]
  },
  {
   "cell_type": "code",
   "execution_count": null,
   "metadata": {
    "collapsed": false,
    "jupyter": {
     "outputs_hidden": false
    }
   },
   "outputs": [],
   "source": [
    "! zip -q -r result.zip Disc_Cup_Segmentations"
   ]
  },
  {
   "cell_type": "markdown",
   "metadata": {},
   "source": [
    "# 其他\n",
    "## 参考项目\n",
    "\n",
    "   [飞桨常规赛：视杯视盘分割（GAMMA挑战赛任务三） - 10月第1名方案](https://aistudio.baidu.com/aistudio/projectdetail/2534292)   \n",
    "   by：[笠雨聆月](https://aistudio.baidu.com/aistudio/personalcenter/thirdview/608082)\n",
    "    \n",
    "## 推荐项目\n",
    "\n",
    "   [基于多通道标签和极坐标变换的视杯视盘联合分割](https://aistudio.baidu.com/aistudio/projectdetail/3168557)    \n",
    "   by：[Auto](https://aistudio.baidu.com/aistudio/personalcenter/thirdview/326137)\n",
    "   \n",
    "   该项目介绍：\n",
    "    \n",
    "    在前一个项目 基于PaddleX和PaddleSeg的眼底彩照视盘分割 中，提供了基于目标检测的视盘区域裁剪方法，构建了自定义 PaddleSeg 模型 M-Net 进行视盘的 2 类别分割。\n",
    "\n",
    "    原 MNet 模型的输出通道数为 2，使用 Sigmoid 分别对每个通道做 2 类分割，如果我们想要使用 PaddleSeg 自定义组件构建 MNet，虽然可以通过 1x1 卷积将输出通道由 2 转变为 3 进行 Softmax + Argmax（本次项目的数据是 3 类别：背景，视盘，视杯。），但引文的标签构建方法独具特色（使用 3 通道 PNG），所以本项目以此为契机，手动实现全流程：项目各个模块的结构参考 PaddleSeg-API，增进对 PaddleSeg-API 代码组织和细节的了解，方便以后提交PR。"
   ]
  }
 ],
 "metadata": {
  "kernelspec": {
   "display_name": "Python 3",
   "language": "python",
   "name": "py35-paddle1.2.0"
  },
  "language_info": {
   "codemirror_mode": {
    "name": "ipython",
    "version": 3
   },
   "file_extension": ".py",
   "mimetype": "text/x-python",
   "name": "python",
   "nbconvert_exporter": "python",
   "pygments_lexer": "ipython3",
   "version": "3.7.4"
  }
 },
 "nbformat": 4,
 "nbformat_minor": 4
}
